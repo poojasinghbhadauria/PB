{
  "nbformat": 4,
  "nbformat_minor": 0,
  "metadata": {
    "colab": {
      "provenance": []
    },
    "kernelspec": {
      "name": "python3",
      "display_name": "Python 3"
    },
    "language_info": {
      "name": "python"
    }
  },
  "cells": [
    {
      "cell_type": "code",
      "execution_count": 3,
      "metadata": {
        "id": "zBgsJtHEzzi8"
      },
      "outputs": [],
      "source": [
        "#Creating DB engine(Sqlite), Ingestion of dataframe into DB(Sql Engine), to read files from particular directory, Setting up logging handler and logging of data\n",
        "import pandas as pd\n",
        "import os\n",
        "from sqlalchemy import create_engine\n",
        "import logging\n",
        "import time\n",
        "import sqlite3\n",
        "\n",
        "for handler in logging.root.handlers[:]:\n",
        "    logging.root.removeHandler(handler)\n",
        "\n",
        "logging.basicConfig(filename='/content/ingestiondb.log', level= logging.DEBUG,format='%(asctime)s -%(levelname)s -%(message)s',filemode='a')\n",
        "logging.debug(\"Logging setup complete.\")\n",
        "\n",
        "engine=create_engine('sqlite:///inventory.db')\n",
        "\n",
        "\n",
        "def ingest_db(df,table_name,engine):\n",
        "  '''This function ingests data frames/data to DB server(EngineName) continuously'''\n",
        "  df.to_sql(table_name, con=engine, if_exists='replace', index=False)#Coverting/Ingesting dataframe to sql engine(Tablename, engine,incase of continuous\n",
        "\n",
        "'''This function will load the CSVs as dataframe and ingest into db'''#data use append instead of if_exists,Index=F do not want indexing)\n",
        "def load_raw_data():\n",
        "  '''This function loads csv's as dataframes and ingest into DB'''\n",
        "  start= time.time()\n",
        "  for fileindir in os.listdir('/content/'): #To read files from particular directory os.listdir(path of directory)\n",
        "    if '.csv' in fileindir:                             #To categorize filenames which has .csv at the end\n",
        "      df=pd.read_csv('/content/'+fileindir) #To read csv files (path + filename)\n",
        "      print(df.shape)\n",
        "      logging.info(f'Ingesting {fileindir} in db')\n",
        "      ingest_db(df,fileindir[:-4],engine)              #Calling Ingestion function(using slicing to remove .csv from the end of filename to create tablename)\n",
        "      end=time.time()\n",
        "      total_time=(end-start)/60\n",
        "      logging.info(f'------Ingestion complete for {fileindir} in db-----')\n",
        "      logging.info(f'\\nTotal time taken is {total_time} minutes')\n",
        "\n",
        "if __name__=='__main__':\n",
        "  load_raw_data()\n",
        "\n",
        "# connect to your database\n",
        "conn=sqlite3.connect('/content/inventory.db')  #Establishing DB connection\n",
        "# list all tables\n",
        "tables =pd.read_sql_query('SELECT name FROM sqlite_master WHERE type=\"table\"',conn) #Checking tables in database\n",
        "tables\n",
        "pd.read_sql('select count(*) from purchases', conn) #To find specific count of records in the table\n",
        "for table in tables['name']:  #To print count of records in each table\n",
        "  print('-'*50,f'{table}','-'*50)\n",
        "  print('count of records:',pd.read_sql(f\"select count (*) as count from {table}\",conn)['count'].values[0])\n",
        "  display(pd.read_sql(f\"select * from {table} limit 5\",conn))\n",
        "#conn.close()\n"
      ]
    }
  ]
}